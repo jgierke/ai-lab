{
 "cells": [
  {
   "cell_type": "markdown",
   "id": "55288ce0",
   "metadata": {},
   "source": [
    "# AI lab - week 1"
   ]
  },
  {
   "cell_type": "markdown",
   "id": "5d4f7210",
   "metadata": {},
   "source": [
    "## Imports and pytorch configuration"
   ]
  },
  {
   "cell_type": "code",
   "execution_count": null,
   "id": "fb7104b5",
   "metadata": {},
   "outputs": [],
   "source": [
    "\n",
    "import torch\n",
    "import torchvision\n",
    "import torch.nn as nn\n",
    "import torch.nn.functional as F\n",
    "import torch.optim as optim\n",
    "import matplotlib.pyplot as plt\n",
    "\n",
    "# global pytorch configuration\n",
    "random_seed = 1\n",
    "torch.backends.cudnn.enabled = False\n",
    "torch.manual_seed(random_seed)\n",
    "#device = torch.device('cpu')\n",
    "device = torch.device('cuda')\n",
    "\n",
    "if device == torch.device('cuda') and not torch.cuda.is_available():\n",
    "  device = torch.device('cpu')\n",
    "  print(\"WARNING: No GPU found. Falling back on CPU.\")\n"
   ]
  },
  {
   "cell_type": "markdown",
   "id": "46c62568",
   "metadata": {},
   "source": [
    "## Load MNIST dataset"
   ]
  },
  {
   "cell_type": "code",
   "execution_count": null,
   "id": "957032e7",
   "metadata": {},
   "outputs": [],
   "source": [
    "\n",
    "batch_size_train = 64\n",
    "batch_size_test = 1000\n",
    "\n",
    "train_loader = torch.utils.data.DataLoader(\n",
    "  torchvision.datasets.MNIST(\n",
    "    '../data/', train=True, download=True,\n",
    "    transform=torchvision.transforms.Compose([\n",
    "      torchvision.transforms.ToTensor(),\n",
    "      torchvision.transforms.Normalize((0.1307,), (0.3081,))\n",
    "    ])\n",
    "  ),\n",
    "  batch_size=batch_size_train, shuffle=True\n",
    ")\n",
    "\n",
    "test_loader = torch.utils.data.DataLoader(\n",
    "  torchvision.datasets.MNIST(\n",
    "    '../data/', train=False, download=True,\n",
    "    transform=torchvision.transforms.Compose([\n",
    "      torchvision.transforms.ToTensor(),\n",
    "      torchvision.transforms.Normalize((0.1307,), (0.3081,))\n",
    "    ])\n",
    "  ),\n",
    "  batch_size=batch_size_test, shuffle=True\n",
    ")\n"
   ]
  },
  {
   "cell_type": "markdown",
   "id": "0bb645c6",
   "metadata": {},
   "source": [
    "## Define the model"
   ]
  },
  {
   "cell_type": "code",
   "execution_count": null,
   "id": "06384441",
   "metadata": {},
   "outputs": [],
   "source": [
    "\n",
    "class TwoLayerNet(nn.Module):\n",
    "  def __init__(self, D_in, H, D_out):\n",
    "    super(TwoLayerNet, self).__init__()\n",
    "    self.flatten = nn.Flatten()\n",
    "    self.linear1 = nn.Linear(D_in, H)\n",
    "    self.linear2 = nn.Linear(H, D_out)\n",
    "\n",
    "  def forward(self, x):\n",
    "    flattened = self.flatten(x)\n",
    "    h_relu = F.relu(self.linear1(flattened))\n",
    "    y = self.linear2(h_relu)\n",
    "    return F.log_softmax(y)\n"
   ]
  },
  {
   "cell_type": "markdown",
   "id": "8fb91d9c",
   "metadata": {},
   "source": [
    "## Instantiate the model"
   ]
  },
  {
   "cell_type": "code",
   "execution_count": null,
   "id": "ddd38adf",
   "metadata": {},
   "outputs": [],
   "source": [
    "\n",
    "def create_model(dim_in, dim_h, dim_out, lr, momentum, device):\n",
    "  model = TwoLayerNet(dim_in, dim_h, dim_out)\n",
    "  model.to(device)\n",
    "  optimizer = optim.SGD(model.parameters(), lr=lr, momentum=momentum)\n",
    "  return (model, optimizer)\n",
    "\n",
    "D_in = 28*28\n",
    "H = 100\n",
    "D_out = 10\n",
    "\n",
    "learning_rate = 0.01\n",
    "momentum = 0.5\n",
    "\n",
    "network, optimizer = create_model(D_in, H, D_out, learning_rate, momentum, device)\n"
   ]
  },
  {
   "cell_type": "markdown",
   "id": "859f28bb",
   "metadata": {},
   "source": [
    "## Helper methods"
   ]
  },
  {
   "cell_type": "code",
   "execution_count": null,
   "id": "44ea0078",
   "metadata": {},
   "outputs": [],
   "source": [
    "\n",
    "def train(model, optimizer, loader, epoch, log_interval, losses, counters, debug=False):\n",
    "  model.train()\n",
    "  for batch_idx, (data, target) in enumerate(loader):\n",
    "    data.to(device)\n",
    "    target.to(device)\n",
    "    optimizer.zero_grad()\n",
    "    output = model(data)\n",
    "    loss = F.nll_loss(output, target)\n",
    "    loss.backward()\n",
    "    optimizer.step()\n",
    "    if batch_idx % log_interval == 0:\n",
    "      if debug:\n",
    "        print(f\"train epoch: {epoch} [{batch_idx*len(data)} / {len(loader.dataset)}, ({(100.*batch_idx/len(loader)):.0f}%)]\\tloss: {loss.item():.6f}\")\n",
    "      losses.append(loss.item())\n",
    "      counters.append((batch_idx*64) + ((epoch-1)*len(train_loader.dataset)))\n",
    "\n",
    "def test(model, loader, losses):\n",
    "  model.eval()\n",
    "  test_loss = 0\n",
    "  correct = 0\n",
    "  with torch.no_grad():\n",
    "    for data, target in loader:\n",
    "      data.to(device)\n",
    "      target.to(device)\n",
    "      output = network(data)\n",
    "      test_loss += F.nll_loss(output, target, size_average=False).item()\n",
    "      pred = output.data.max(1, keepdim=True)[1]\n",
    "      correct += pred.eq(target.data.view_as(pred)).sum()\n",
    "  test_loss /= len(loader.dataset)\n",
    "  losses.append(test_loss)\n",
    "  print(f\"\\ntest set: avg. loss: {test_loss:.4f}, accuracy: {correct} / {len(loader.dataset)} ({(100.*correct/len(loader.dataset)):.0f}%)\\n\")\n"
   ]
  },
  {
   "cell_type": "markdown",
   "id": "b1affd90",
   "metadata": {},
   "source": [
    "## Train the model"
   ]
  },
  {
   "cell_type": "code",
   "execution_count": null,
   "id": "473d8c79",
   "metadata": {},
   "outputs": [],
   "source": [
    "\n",
    "n_epochs = 50\n",
    "log_interval = 10\n",
    "\n",
    "train_losses = []\n",
    "train_counter = []\n",
    "test_losses = []\n",
    "test_counter = [i*len(train_loader.dataset) for i in range(n_epochs + 1)]\n",
    "\n",
    "test(network, test_loader, test_losses)\n",
    "for epoch in range(1, n_epochs + 1):\n",
    "  train(network, optimizer, train_loader, epoch, log_interval, train_losses, train_counter)\n"
   ]
  },
  {
   "cell_type": "markdown",
   "id": "757c66d0",
   "metadata": {},
   "source": [
    "## Visualize training"
   ]
  },
  {
   "cell_type": "code",
   "execution_count": null,
   "id": "bdcb018f",
   "metadata": {},
   "outputs": [],
   "source": [
    "\n",
    "fig = plt.figure()\n",
    "plt.plot(train_counter, train_losses, color='blue')\n",
    "#plt.scatter(test_counter, test_losses, color='red')\n",
    "#plt.legend(['Train Loss', 'Test Loss'], loc='upper right')\n",
    "plt.xlabel('number of training examples seen')\n",
    "plt.ylabel('negative log likelihood loss')\n",
    "#plt.savefig(\"plot.png\", dpi=300)\n",
    "fig\n"
   ]
  },
  {
   "cell_type": "markdown",
   "id": "48468513",
   "metadata": {},
   "source": [
    "## Evaluate model quality on test dataset"
   ]
  },
  {
   "cell_type": "code",
   "execution_count": null,
   "id": "074b6a82",
   "metadata": {},
   "outputs": [],
   "source": [
    "\n",
    "test(network, test_loader, test_losses)\n"
   ]
  },
  {
   "cell_type": "markdown",
   "id": "1443bf4f",
   "metadata": {},
   "source": [
    "## Benchmarking"
   ]
  },
  {
   "cell_type": "code",
   "execution_count": null,
   "id": "cfa2922b",
   "metadata": {},
   "outputs": [],
   "source": [
    "\n",
    "import torch.utils.benchmark as benchmark\n",
    "\n",
    "device = torch.device('cpu')\n",
    "n_threads = torch.get_num_threads()\n",
    "\n",
    "network_cpu, optimizer_cpu = create_model(D_in, H, D_out, learning_rate, momentum, device)\n",
    "t_cpu = benchmark.Timer(\n",
    "  stmt='train(model, optimizer, loader, epoch, interval, losses, counters)',\n",
    "  setup='from __main__ import train',\n",
    "  globals={\n",
    "    'model': network_cpu,\n",
    "    'optimizer': optimizer_cpu,\n",
    "    'loader': train_loader,\n",
    "    'epoch': 1,\n",
    "    'interval': 10,\n",
    "    'losses': [],\n",
    "    'counters': []\n",
    "  },\n",
    "    num_threads=n_threads\n",
    ")\n",
    "print(t_cpu.timeit(1))\n",
    "\n",
    "#device = torch.device('cuda')\n",
    "#n_threads = torch.get_num_threads()\n",
    "#\n",
    "#network_cuda, optimizer_cuda = create_model(D_in, H, D_out, learning_rate, momentum, device)\n",
    "#t_cuda = benchmark.Timer(\n",
    "#  stmt='train(model, optimizer, loader, epoch, interval, losses, counters)',\n",
    "#  setup='from __main__ import train',\n",
    "#  globals={\n",
    "#    'model': network_cuda,\n",
    "#    'optimizer': optimizer_cuda,\n",
    "#    'loader': train_loader,\n",
    "#    'epoch': 1,\n",
    "#    'interval': 10,\n",
    "#    'losses': [],\n",
    "#    'counters': []\n",
    "#  },\n",
    "#    num_threads=n_threads\n",
    "#)\n",
    "#print(t_cuda.timeit(1))\n"
   ]
  }
 ],
 "metadata": {},
 "nbformat": 4,
 "nbformat_minor": 5
}
